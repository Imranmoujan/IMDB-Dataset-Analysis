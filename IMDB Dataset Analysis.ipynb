{
 "cells": [
  {
   "cell_type": "code",
   "execution_count": 1,
   "id": "433cc833-bd3a-4276-918b-4985fd6c3ee1",
   "metadata": {},
   "outputs": [],
   "source": [
    "import numpy as np \n",
    "import pandas as pd \n",
    "import matplotlib.pyplot as plt\n",
    "import sqlite3\n",
    "import seaborn as sns"
   ]
  },
  {
   "cell_type": "code",
   "execution_count": 2,
   "id": "8f5090fc-46ed-4523-9de5-47a38f13a883",
   "metadata": {},
   "outputs": [],
   "source": [
    "db=sqlite3.connect(\"movies.sqlite\")\n",
    "cur=db.cursor()"
   ]
  },
  {
   "cell_type": "code",
   "execution_count": 3,
   "id": "38e946e3-2db4-4a6b-adf3-e211de9dec08",
   "metadata": {},
   "outputs": [
    {
     "data": {
      "text/plain": [
       "<sqlite3.Cursor at 0x1f6aeca6540>"
      ]
     },
     "execution_count": 3,
     "metadata": {},
     "output_type": "execute_result"
    }
   ],
   "source": [
    "db.execute(\"select * from directors\")"
   ]
  },
  {
   "cell_type": "markdown",
   "id": "d632d7c2-c52e-49f8-8bc6-16711760b01b",
   "metadata": {},
   "source": [
    "## Movies Data"
   ]
  },
  {
   "cell_type": "code",
   "execution_count": 5,
   "id": "7874c52c-3100-4446-a1fd-4eca6ad3802c",
   "metadata": {},
   "outputs": [],
   "source": [
    "cur.execute(\"select * from movies\")\n",
    "movies=cur.fetchall()"
   ]
  },
  {
   "cell_type": "code",
   "execution_count": 6,
   "id": "a0f5c7d6-7a56-4a91-9848-ef00a89404fc",
   "metadata": {},
   "outputs": [],
   "source": [
    "df=pd.DataFrame(movies,columns=[\"id\",\"original_title\",\"budget\",\"popularity\",\"released_date\",\"revenue\",\"title\",'vote_average', 'vote_count',\"overview\",\"tagline\",\"uid\",\"director_id\"])"
   ]
  },
  {
   "cell_type": "code",
   "execution_count": 7,
   "id": "8d79daf9-32f2-4139-8cb8-eed5b9238f24",
   "metadata": {},
   "outputs": [
    {
     "data": {
      "text/plain": [
       "Index(['id', 'original_title', 'budget', 'popularity', 'released_date',\n",
       "       'revenue', 'title', 'vote_average', 'vote_count', 'overview', 'tagline',\n",
       "       'uid', 'director_id'],\n",
       "      dtype='object')"
      ]
     },
     "execution_count": 7,
     "metadata": {},
     "output_type": "execute_result"
    }
   ],
   "source": [
    "df.columns"
   ]
  },
  {
   "cell_type": "code",
   "execution_count": 8,
   "id": "e88d664f-a9be-42ab-9ecc-073546d386ce",
   "metadata": {},
   "outputs": [
    {
     "name": "stdout",
     "output_type": "stream",
     "text": [
      "<class 'pandas.core.frame.DataFrame'>\n",
      "RangeIndex: 4773 entries, 0 to 4772\n",
      "Data columns (total 13 columns):\n",
      " #   Column          Non-Null Count  Dtype  \n",
      "---  ------          --------------  -----  \n",
      " 0   id              4773 non-null   int64  \n",
      " 1   original_title  4773 non-null   object \n",
      " 2   budget          4773 non-null   int64  \n",
      " 3   popularity      4773 non-null   int64  \n",
      " 4   released_date   4773 non-null   object \n",
      " 5   revenue         4773 non-null   int64  \n",
      " 6   title           4773 non-null   object \n",
      " 7   vote_average    4773 non-null   float64\n",
      " 8   vote_count      4773 non-null   int64  \n",
      " 9   overview        4770 non-null   object \n",
      " 10  tagline         3951 non-null   object \n",
      " 11  uid             4773 non-null   int64  \n",
      " 12  director_id     4773 non-null   int64  \n",
      "dtypes: float64(1), int64(7), object(5)\n",
      "memory usage: 484.9+ KB\n"
     ]
    }
   ],
   "source": [
    "df.info()"
   ]
  },
  {
   "cell_type": "markdown",
   "id": "da9096af-2664-489d-ac51-d60a6d22e64d",
   "metadata": {},
   "source": [
    "## Directors Data"
   ]
  },
  {
   "cell_type": "code",
   "execution_count": 10,
   "id": "874a68f4-c29c-4a54-857f-4162fc52010c",
   "metadata": {},
   "outputs": [],
   "source": [
    "cur.execute(\"select * from directors\")\n",
    "directors=cur.fetchall()"
   ]
  },
  {
   "cell_type": "code",
   "execution_count": 11,
   "id": "293f93e7-04b1-4c66-acca-8ba4421bfc51",
   "metadata": {},
   "outputs": [],
   "source": [
    "df_2=pd.DataFrame(directors,columns=[\"name\",\"id\",\"gender\",\"uid\",\"department\"])\n"
   ]
  },
  {
   "cell_type": "code",
   "execution_count": 12,
   "id": "9f695b67-05d1-4991-84be-e0f6aaf3a7d9",
   "metadata": {},
   "outputs": [
    {
     "data": {
      "text/html": [
       "<div>\n",
       "<style scoped>\n",
       "    .dataframe tbody tr th:only-of-type {\n",
       "        vertical-align: middle;\n",
       "    }\n",
       "\n",
       "    .dataframe tbody tr th {\n",
       "        vertical-align: top;\n",
       "    }\n",
       "\n",
       "    .dataframe thead th {\n",
       "        text-align: right;\n",
       "    }\n",
       "</style>\n",
       "<table border=\"1\" class=\"dataframe\">\n",
       "  <thead>\n",
       "    <tr style=\"text-align: right;\">\n",
       "      <th></th>\n",
       "      <th>name</th>\n",
       "      <th>id</th>\n",
       "      <th>gender</th>\n",
       "      <th>uid</th>\n",
       "      <th>department</th>\n",
       "    </tr>\n",
       "  </thead>\n",
       "  <tbody>\n",
       "    <tr>\n",
       "      <th>0</th>\n",
       "      <td>James Cameron</td>\n",
       "      <td>4762</td>\n",
       "      <td>2</td>\n",
       "      <td>2710</td>\n",
       "      <td>Directing</td>\n",
       "    </tr>\n",
       "    <tr>\n",
       "      <th>1</th>\n",
       "      <td>Gore Verbinski</td>\n",
       "      <td>4763</td>\n",
       "      <td>2</td>\n",
       "      <td>1704</td>\n",
       "      <td>Directing</td>\n",
       "    </tr>\n",
       "    <tr>\n",
       "      <th>2</th>\n",
       "      <td>Sam Mendes</td>\n",
       "      <td>4764</td>\n",
       "      <td>2</td>\n",
       "      <td>39</td>\n",
       "      <td>Directing</td>\n",
       "    </tr>\n",
       "    <tr>\n",
       "      <th>3</th>\n",
       "      <td>Christopher Nolan</td>\n",
       "      <td>4765</td>\n",
       "      <td>2</td>\n",
       "      <td>525</td>\n",
       "      <td>Directing</td>\n",
       "    </tr>\n",
       "    <tr>\n",
       "      <th>4</th>\n",
       "      <td>Andrew Stanton</td>\n",
       "      <td>4766</td>\n",
       "      <td>2</td>\n",
       "      <td>7</td>\n",
       "      <td>Directing</td>\n",
       "    </tr>\n",
       "  </tbody>\n",
       "</table>\n",
       "</div>"
      ],
      "text/plain": [
       "                name    id  gender   uid department\n",
       "0      James Cameron  4762       2  2710  Directing\n",
       "1     Gore Verbinski  4763       2  1704  Directing\n",
       "2         Sam Mendes  4764       2    39  Directing\n",
       "3  Christopher Nolan  4765       2   525  Directing\n",
       "4     Andrew Stanton  4766       2     7  Directing"
      ]
     },
     "execution_count": 12,
     "metadata": {},
     "output_type": "execute_result"
    }
   ],
   "source": [
    "df_2.head()"
   ]
  },
  {
   "cell_type": "code",
   "execution_count": 13,
   "id": "aed63b6e-07df-43a7-a854-36de0c708004",
   "metadata": {},
   "outputs": [
    {
     "data": {
      "text/html": [
       "<div>\n",
       "<style scoped>\n",
       "    .dataframe tbody tr th:only-of-type {\n",
       "        vertical-align: middle;\n",
       "    }\n",
       "\n",
       "    .dataframe tbody tr th {\n",
       "        vertical-align: top;\n",
       "    }\n",
       "\n",
       "    .dataframe thead th {\n",
       "        text-align: right;\n",
       "    }\n",
       "</style>\n",
       "<table border=\"1\" class=\"dataframe\">\n",
       "  <thead>\n",
       "    <tr style=\"text-align: right;\">\n",
       "      <th></th>\n",
       "      <th>name</th>\n",
       "      <th>id</th>\n",
       "      <th>gender</th>\n",
       "      <th>uid</th>\n",
       "      <th>department</th>\n",
       "    </tr>\n",
       "  </thead>\n",
       "  <tbody>\n",
       "    <tr>\n",
       "      <th>2344</th>\n",
       "      <td>Shane Carruth</td>\n",
       "      <td>7106</td>\n",
       "      <td>2</td>\n",
       "      <td>76624</td>\n",
       "      <td>Directing</td>\n",
       "    </tr>\n",
       "    <tr>\n",
       "      <th>2345</th>\n",
       "      <td>Neill Dela Llana</td>\n",
       "      <td>7107</td>\n",
       "      <td>0</td>\n",
       "      <td>1174437</td>\n",
       "      <td>Directing</td>\n",
       "    </tr>\n",
       "    <tr>\n",
       "      <th>2346</th>\n",
       "      <td>Scott Smith</td>\n",
       "      <td>7108</td>\n",
       "      <td>0</td>\n",
       "      <td>1219158</td>\n",
       "      <td>Directing</td>\n",
       "    </tr>\n",
       "    <tr>\n",
       "      <th>2347</th>\n",
       "      <td>Daniel Hsia</td>\n",
       "      <td>7109</td>\n",
       "      <td>2</td>\n",
       "      <td>208138</td>\n",
       "      <td>Directing</td>\n",
       "    </tr>\n",
       "    <tr>\n",
       "      <th>2348</th>\n",
       "      <td>Brian Herzlinger</td>\n",
       "      <td>7110</td>\n",
       "      <td>2</td>\n",
       "      <td>85563</td>\n",
       "      <td>Directing</td>\n",
       "    </tr>\n",
       "  </tbody>\n",
       "</table>\n",
       "</div>"
      ],
      "text/plain": [
       "                  name    id  gender      uid department\n",
       "2344     Shane Carruth  7106       2    76624  Directing\n",
       "2345  Neill Dela Llana  7107       0  1174437  Directing\n",
       "2346       Scott Smith  7108       0  1219158  Directing\n",
       "2347       Daniel Hsia  7109       2   208138  Directing\n",
       "2348  Brian Herzlinger  7110       2    85563  Directing"
      ]
     },
     "execution_count": 13,
     "metadata": {},
     "output_type": "execute_result"
    }
   ],
   "source": [
    "df_2.tail()"
   ]
  },
  {
   "cell_type": "code",
   "execution_count": 14,
   "id": "8568a4d8-97b7-4f93-aad8-1d9c26ef7c15",
   "metadata": {},
   "outputs": [
    {
     "name": "stdout",
     "output_type": "stream",
     "text": [
      "<class 'pandas.core.frame.DataFrame'>\n",
      "RangeIndex: 2349 entries, 0 to 2348\n",
      "Data columns (total 5 columns):\n",
      " #   Column      Non-Null Count  Dtype \n",
      "---  ------      --------------  ----- \n",
      " 0   name        2349 non-null   object\n",
      " 1   id          2349 non-null   int64 \n",
      " 2   gender      2349 non-null   int64 \n",
      " 3   uid         2349 non-null   int64 \n",
      " 4   department  2349 non-null   object\n",
      "dtypes: int64(3), object(2)\n",
      "memory usage: 91.9+ KB\n"
     ]
    }
   ],
   "source": [
    "df_2.info()"
   ]
  },
  {
   "cell_type": "markdown",
   "id": "558dca8f-0e57-41a5-9382-b3abeb3f864c",
   "metadata": {},
   "source": [
    "## How many movies present in data set "
   ]
  },
  {
   "cell_type": "code",
   "execution_count": 16,
   "id": "bd1b7585-6d7e-4dc6-b501-cf5496682614",
   "metadata": {},
   "outputs": [
    {
     "name": "stdout",
     "output_type": "stream",
     "text": [
      "The number of movies present in this data set is 4773\n"
     ]
    }
   ],
   "source": [
    "cur.execute(\"select count(title) from movies\")\n",
    "count=cur.fetchall()\n",
    "print(f\"The number of movies present in this data set is {count[0][0]}\")"
   ]
  },
  {
   "cell_type": "markdown",
   "id": "9a0dd6e6-3bc8-4d6c-8bc9-a2802c7811e9",
   "metadata": {},
   "source": [
    "## Find this three directors James Cameron,Scott Smith,Brian Herzlinger data"
   ]
  },
  {
   "cell_type": "code",
   "execution_count": 18,
   "id": "da0b483d-f6a8-4bee-8dfb-e86a5cf7c750",
   "metadata": {},
   "outputs": [
    {
     "data": {
      "text/plain": [
       "[('James Cameron', 4762, 2, 2710, 'Directing'),\n",
       " ('Scott Smith', 7108, 0, 1219158, 'Directing'),\n",
       " ('Brian Herzlinger', 7110, 2, 85563, 'Directing')]"
      ]
     },
     "execution_count": 18,
     "metadata": {},
     "output_type": "execute_result"
    }
   ],
   "source": [
    "cur.execute(\"select * from directors where name in ('James Cameron','Scott Smith','Brian Herzlinger')\")\n",
    "data=cur.fetchall()\n",
    "data"
   ]
  },
  {
   "cell_type": "markdown",
   "id": "eee58403-6a5a-4ca2-b060-0d86c8d06c7c",
   "metadata": {},
   "source": [
    "## find all the direcotrs with name starting with Steven"
   ]
  },
  {
   "cell_type": "code",
   "execution_count": 20,
   "id": "fbafc8a6-92e2-4c5d-9a58-f0297961c3e9",
   "metadata": {},
   "outputs": [
    {
     "data": {
      "text/plain": [
       "'Steven Spielberg'"
      ]
     },
     "execution_count": 20,
     "metadata": {},
     "output_type": "execute_result"
    }
   ],
   "source": [
    "cur.execute(\"SELEcT * FROM directors WHERE name LIKE 'Steven%'\")\n",
    "name=data=cur.fetchall()\n",
    "name[0][0]"
   ]
  },
  {
   "cell_type": "markdown",
   "id": "3e8111a6-4c60-4314-81f9-60f6e35f4a6b",
   "metadata": {},
   "source": [
    "## Female Directors"
   ]
  },
  {
   "cell_type": "code",
   "execution_count": 22,
   "id": "e44d8f13-6968-4fd2-9f24-54f2417709f8",
   "metadata": {},
   "outputs": [],
   "source": [
    "cur.execute(\"SELECT count(*) FROM directors WHERE gender == '1'\")\n",
    "count_female=cur.fetchall()"
   ]
  },
  {
   "cell_type": "code",
   "execution_count": 23,
   "id": "0315ba5a-6ee0-47da-a914-7686110f2487",
   "metadata": {},
   "outputs": [
    {
     "data": {
      "text/plain": [
       "150"
      ]
     },
     "execution_count": 23,
     "metadata": {},
     "output_type": "execute_result"
    }
   ],
   "source": [
    "count_female[0][0]"
   ]
  },
  {
   "cell_type": "markdown",
   "id": "d3acda21-043d-4506-9c12-12be3d66adae",
   "metadata": {},
   "source": [
    "## Find the name of the first 10 position female directors"
   ]
  },
  {
   "cell_type": "code",
   "execution_count": 25,
   "id": "dbdd2634-c7a1-40ba-89ea-cd70f547d5dc",
   "metadata": {},
   "outputs": [
    {
     "data": {
      "text/plain": [
       "'Brenda Chapman'"
      ]
     },
     "execution_count": 25,
     "metadata": {},
     "output_type": "execute_result"
    }
   ],
   "source": [
    "cur.execute(\"SELECT name FROM directors WHERE gender=='1' LIMIT 10\")\n",
    "female_10=cur.fetchall()\n",
    "female_10[0][0]"
   ]
  },
  {
   "cell_type": "markdown",
   "id": "af2b589f-b3ac-442e-b0b9-081bca3ffef9",
   "metadata": {},
   "source": [
    "## Find top three movies"
   ]
  },
  {
   "cell_type": "code",
   "execution_count": 27,
   "id": "5bc8428c-c34a-4fd1-b4ef-75cd886b5bcf",
   "metadata": {},
   "outputs": [
    {
     "data": {
      "text/plain": [
       "'Minions'"
      ]
     },
     "execution_count": 27,
     "metadata": {},
     "output_type": "execute_result"
    }
   ],
   "source": [
    "cur.execute(\"SELECT title FROM movies ORDER BY popularity DESC LIMIT 3\")\n",
    "sorted_popularity = cur.fetchall()\n",
    "sorted_popularity[0][0]"
   ]
  },
  {
   "cell_type": "markdown",
   "id": "ec15c462-d28a-44f5-88ba-ccc8090df5a8",
   "metadata": {},
   "source": [
    "## What are the 3 most bankable movies?"
   ]
  },
  {
   "cell_type": "code",
   "execution_count": 29,
   "id": "ae28921a-b3cf-44af-b2e8-6bedafc1bee6",
   "metadata": {},
   "outputs": [
    {
     "data": {
      "text/plain": [
       "'Pirates of the Caribbean: On Stranger Tides'"
      ]
     },
     "execution_count": 29,
     "metadata": {},
     "output_type": "execute_result"
    }
   ],
   "source": [
    "cur.execute(\"SELECT title FROM movies ORDER BY budget DESC LIMIT 3\")\n",
    "sorted_budget = cur.fetchall()\n",
    "sorted_budget[0][0]"
   ]
  },
  {
   "cell_type": "markdown",
   "id": "1eca227a-35a0-4b0f-a6cd-100a72785d51",
   "metadata": {},
   "source": [
    "## What is most awarded average rating movie since Jan 1st,2000?"
   ]
  },
  {
   "cell_type": "code",
   "execution_count": 31,
   "id": "c97f2fb5-94fd-4e86-8cd6-729be5fe140b",
   "metadata": {},
   "outputs": [
    {
     "data": {
      "text/plain": [
       "'Sardaarji'"
      ]
     },
     "execution_count": 31,
     "metadata": {},
     "output_type": "execute_result"
    }
   ],
   "source": [
    "cur.execute(\"SELECT title FROM movies WHERE release_date > '2000-1-1' ORDER BY vote_average DESC LIMIT 1\")\n",
    "sorted_date = cur.fetchall()\n",
    "sorted_date[0][0]"
   ]
  },
  {
   "cell_type": "markdown",
   "id": "772ae94f-0cb4-4f41-ad24-9db6c774aa47",
   "metadata": {},
   "source": [
    "## Which movie(s) were directed by Brenda Chapman?"
   ]
  },
  {
   "cell_type": "code",
   "execution_count": 33,
   "id": "9a9e1486-b4b8-474f-bde1-06f465859086",
   "metadata": {},
   "outputs": [
    {
     "data": {
      "text/plain": [
       "'Brave'"
      ]
     },
     "execution_count": 33,
     "metadata": {},
     "output_type": "execute_result"
    }
   ],
   "source": [
    "cur.execute(\"SELECT title FROM movies JOIN directors ON  directors.id = movies.director_id  WHERE directors.name ='Brenda Chapman'\")\n",
    "movie_name = cur.fetchall()\n",
    "movie_name[0][0]"
   ]
  },
  {
   "cell_type": "markdown",
   "id": "8b2ad6b0-6fa6-43dd-b2f6-357ce72d9a63",
   "metadata": {},
   "source": [
    "## Name the director who has made the most movies?"
   ]
  },
  {
   "cell_type": "code",
   "execution_count": 35,
   "id": "c6f39b9c-4ce8-40c2-8414-dc3e19889e6a",
   "metadata": {},
   "outputs": [
    {
     "data": {
      "text/plain": [
       "'Steven Spielberg'"
      ]
     },
     "execution_count": 35,
     "metadata": {},
     "output_type": "execute_result"
    }
   ],
   "source": [
    "cur.execute(\"SELECT name FROM directors JOIN movies ON  directors.id = movies.director_id  GROUP BY name  ORDER BY count(budget) DESC LIMIT 1\")\n",
    "movie_name = cur.fetchall()\n",
    "movie_name[0][0]"
   ]
  },
  {
   "cell_type": "markdown",
   "id": "cfcc217c-8a83-48cb-908a-71749127ec35",
   "metadata": {},
   "source": [
    "## Name of the director who is most bankable"
   ]
  },
  {
   "cell_type": "code",
   "execution_count": 37,
   "id": "0a45e6b2-db52-4fab-aeb8-8953ffa9ba26",
   "metadata": {},
   "outputs": [
    {
     "data": {
      "text/plain": [
       "'Steven Spielberg'"
      ]
     },
     "execution_count": 37,
     "metadata": {},
     "output_type": "execute_result"
    }
   ],
   "source": [
    "cur.execute(\"SELECT name FROM directors JOIN movies ON  directors.id = movies.director_id  GROUP BY name  ORDER BY sum(budget) DESC LIMIT 1\")\n",
    "movie_name = cur.fetchall()\n",
    "movie_name[0][0]"
   ]
  },
  {
   "cell_type": "markdown",
   "id": "8649d4c7-0527-426a-b047-a825b39fd28c",
   "metadata": {},
   "source": [
    "## Budget Analysis"
   ]
  },
  {
   "cell_type": "markdown",
   "id": "387f5728-e127-4004-b1ca-b9f5be49c830",
   "metadata": {},
   "source": [
    "## Top 10 highes budget making movies"
   ]
  },
  {
   "cell_type": "code",
   "execution_count": 40,
   "id": "9ac2ddc1-d3fe-42b7-b346-9cdb2bc2c175",
   "metadata": {},
   "outputs": [
    {
     "data": {
      "text/html": [
       "<div>\n",
       "<style scoped>\n",
       "    .dataframe tbody tr th:only-of-type {\n",
       "        vertical-align: middle;\n",
       "    }\n",
       "\n",
       "    .dataframe tbody tr th {\n",
       "        vertical-align: top;\n",
       "    }\n",
       "\n",
       "    .dataframe thead th {\n",
       "        text-align: right;\n",
       "    }\n",
       "</style>\n",
       "<table border=\"1\" class=\"dataframe\">\n",
       "  <thead>\n",
       "    <tr style=\"text-align: right;\">\n",
       "      <th></th>\n",
       "      <th>id</th>\n",
       "      <th>original_title</th>\n",
       "      <th>budget</th>\n",
       "      <th>popularity</th>\n",
       "      <th>released_date</th>\n",
       "      <th>revenue</th>\n",
       "      <th>title</th>\n",
       "      <th>vote_average</th>\n",
       "      <th>vote_count</th>\n",
       "      <th>overview</th>\n",
       "      <th>tagline</th>\n",
       "      <th>uid</th>\n",
       "      <th>director_id</th>\n",
       "    </tr>\n",
       "  </thead>\n",
       "  <tbody>\n",
       "    <tr>\n",
       "      <th>0</th>\n",
       "      <td>43614</td>\n",
       "      <td>Pirates of the Caribbean: On Stranger Tides</td>\n",
       "      <td>380000000</td>\n",
       "      <td>135</td>\n",
       "      <td>2011-05-14</td>\n",
       "      <td>1045713802</td>\n",
       "      <td>Pirates of the Caribbean: On Stranger Tides</td>\n",
       "      <td>6.4</td>\n",
       "      <td>4948</td>\n",
       "      <td>Captain Jack Sparrow crosses paths with a woma...</td>\n",
       "      <td>Live Forever Or Die Trying.</td>\n",
       "      <td>1865</td>\n",
       "      <td>4775</td>\n",
       "    </tr>\n",
       "    <tr>\n",
       "      <th>1</th>\n",
       "      <td>43598</td>\n",
       "      <td>Pirates of the Caribbean: At World's End</td>\n",
       "      <td>300000000</td>\n",
       "      <td>139</td>\n",
       "      <td>2007-05-19</td>\n",
       "      <td>961000000</td>\n",
       "      <td>Pirates of the Caribbean: At World's End</td>\n",
       "      <td>6.9</td>\n",
       "      <td>4500</td>\n",
       "      <td>Captain Barbossa, long believed to be dead, ha...</td>\n",
       "      <td>At the end of the world, the adventure begins.</td>\n",
       "      <td>285</td>\n",
       "      <td>4763</td>\n",
       "    </tr>\n",
       "    <tr>\n",
       "      <th>2</th>\n",
       "      <td>43604</td>\n",
       "      <td>Avengers: Age of Ultron</td>\n",
       "      <td>280000000</td>\n",
       "      <td>134</td>\n",
       "      <td>2015-04-22</td>\n",
       "      <td>1405403694</td>\n",
       "      <td>Avengers: Age of Ultron</td>\n",
       "      <td>7.3</td>\n",
       "      <td>6767</td>\n",
       "      <td>When Tony Stark tries to jumpstart a dormant p...</td>\n",
       "      <td>A New Age Has Come.</td>\n",
       "      <td>99861</td>\n",
       "      <td>4769</td>\n",
       "    </tr>\n",
       "    <tr>\n",
       "      <th>3</th>\n",
       "      <td>43607</td>\n",
       "      <td>Superman Returns</td>\n",
       "      <td>270000000</td>\n",
       "      <td>57</td>\n",
       "      <td>2006-06-28</td>\n",
       "      <td>391081192</td>\n",
       "      <td>Superman Returns</td>\n",
       "      <td>5.4</td>\n",
       "      <td>1400</td>\n",
       "      <td>Superman returns to discover his 5-year absenc...</td>\n",
       "      <td>None</td>\n",
       "      <td>1452</td>\n",
       "      <td>4772</td>\n",
       "    </tr>\n",
       "    <tr>\n",
       "      <th>4</th>\n",
       "      <td>43601</td>\n",
       "      <td>John Carter</td>\n",
       "      <td>260000000</td>\n",
       "      <td>43</td>\n",
       "      <td>2012-03-07</td>\n",
       "      <td>284139100</td>\n",
       "      <td>John Carter</td>\n",
       "      <td>6.1</td>\n",
       "      <td>2124</td>\n",
       "      <td>John Carter is a war-weary, former military ca...</td>\n",
       "      <td>Lost in our world, found in another.</td>\n",
       "      <td>49529</td>\n",
       "      <td>4766</td>\n",
       "    </tr>\n",
       "    <tr>\n",
       "      <th>5</th>\n",
       "      <td>43603</td>\n",
       "      <td>Tangled</td>\n",
       "      <td>260000000</td>\n",
       "      <td>48</td>\n",
       "      <td>2010-11-24</td>\n",
       "      <td>591794936</td>\n",
       "      <td>Tangled</td>\n",
       "      <td>7.4</td>\n",
       "      <td>3330</td>\n",
       "      <td>When the kingdom's most wanted-and most charmi...</td>\n",
       "      <td>They're taking adventure to new lengths.</td>\n",
       "      <td>38757</td>\n",
       "      <td>4768</td>\n",
       "    </tr>\n",
       "    <tr>\n",
       "      <th>6</th>\n",
       "      <td>43602</td>\n",
       "      <td>Spider-Man 3</td>\n",
       "      <td>258000000</td>\n",
       "      <td>115</td>\n",
       "      <td>2007-05-01</td>\n",
       "      <td>890871626</td>\n",
       "      <td>Spider-Man 3</td>\n",
       "      <td>5.9</td>\n",
       "      <td>3576</td>\n",
       "      <td>The seemingly invincible Spider-Man goes up ag...</td>\n",
       "      <td>The battle within.</td>\n",
       "      <td>559</td>\n",
       "      <td>4767</td>\n",
       "    </tr>\n",
       "    <tr>\n",
       "      <th>7</th>\n",
       "      <td>43610</td>\n",
       "      <td>The Lone Ranger</td>\n",
       "      <td>255000000</td>\n",
       "      <td>49</td>\n",
       "      <td>2013-07-03</td>\n",
       "      <td>89289910</td>\n",
       "      <td>The Lone Ranger</td>\n",
       "      <td>5.9</td>\n",
       "      <td>2311</td>\n",
       "      <td>The Texas Rangers chase down a gang of outlaws...</td>\n",
       "      <td>Never Take Off the Mask</td>\n",
       "      <td>57201</td>\n",
       "      <td>4763</td>\n",
       "    </tr>\n",
       "    <tr>\n",
       "      <th>8</th>\n",
       "      <td>43600</td>\n",
       "      <td>The Dark Knight Rises</td>\n",
       "      <td>250000000</td>\n",
       "      <td>112</td>\n",
       "      <td>2012-07-16</td>\n",
       "      <td>1084939099</td>\n",
       "      <td>The Dark Knight Rises</td>\n",
       "      <td>7.6</td>\n",
       "      <td>9106</td>\n",
       "      <td>Following the death of District Attorney Harve...</td>\n",
       "      <td>The Legend Ends</td>\n",
       "      <td>49026</td>\n",
       "      <td>4765</td>\n",
       "    </tr>\n",
       "    <tr>\n",
       "      <th>9</th>\n",
       "      <td>43605</td>\n",
       "      <td>Harry Potter and the Half-Blood Prince</td>\n",
       "      <td>250000000</td>\n",
       "      <td>98</td>\n",
       "      <td>2009-07-07</td>\n",
       "      <td>933959197</td>\n",
       "      <td>Harry Potter and the Half-Blood Prince</td>\n",
       "      <td>7.4</td>\n",
       "      <td>5293</td>\n",
       "      <td>As Harry begins his sixth year at Hogwarts, he...</td>\n",
       "      <td>Dark Secrets Revealed</td>\n",
       "      <td>767</td>\n",
       "      <td>4770</td>\n",
       "    </tr>\n",
       "  </tbody>\n",
       "</table>\n",
       "</div>"
      ],
      "text/plain": [
       "      id                               original_title     budget  popularity  \\\n",
       "0  43614  Pirates of the Caribbean: On Stranger Tides  380000000         135   \n",
       "1  43598     Pirates of the Caribbean: At World's End  300000000         139   \n",
       "2  43604                      Avengers: Age of Ultron  280000000         134   \n",
       "3  43607                             Superman Returns  270000000          57   \n",
       "4  43601                                  John Carter  260000000          43   \n",
       "5  43603                                      Tangled  260000000          48   \n",
       "6  43602                                 Spider-Man 3  258000000         115   \n",
       "7  43610                              The Lone Ranger  255000000          49   \n",
       "8  43600                        The Dark Knight Rises  250000000         112   \n",
       "9  43605       Harry Potter and the Half-Blood Prince  250000000          98   \n",
       "\n",
       "  released_date     revenue                                        title  \\\n",
       "0    2011-05-14  1045713802  Pirates of the Caribbean: On Stranger Tides   \n",
       "1    2007-05-19   961000000     Pirates of the Caribbean: At World's End   \n",
       "2    2015-04-22  1405403694                      Avengers: Age of Ultron   \n",
       "3    2006-06-28   391081192                             Superman Returns   \n",
       "4    2012-03-07   284139100                                  John Carter   \n",
       "5    2010-11-24   591794936                                      Tangled   \n",
       "6    2007-05-01   890871626                                 Spider-Man 3   \n",
       "7    2013-07-03    89289910                              The Lone Ranger   \n",
       "8    2012-07-16  1084939099                        The Dark Knight Rises   \n",
       "9    2009-07-07   933959197       Harry Potter and the Half-Blood Prince   \n",
       "\n",
       "   vote_average  vote_count  \\\n",
       "0           6.4        4948   \n",
       "1           6.9        4500   \n",
       "2           7.3        6767   \n",
       "3           5.4        1400   \n",
       "4           6.1        2124   \n",
       "5           7.4        3330   \n",
       "6           5.9        3576   \n",
       "7           5.9        2311   \n",
       "8           7.6        9106   \n",
       "9           7.4        5293   \n",
       "\n",
       "                                            overview  \\\n",
       "0  Captain Jack Sparrow crosses paths with a woma...   \n",
       "1  Captain Barbossa, long believed to be dead, ha...   \n",
       "2  When Tony Stark tries to jumpstart a dormant p...   \n",
       "3  Superman returns to discover his 5-year absenc...   \n",
       "4  John Carter is a war-weary, former military ca...   \n",
       "5  When the kingdom's most wanted-and most charmi...   \n",
       "6  The seemingly invincible Spider-Man goes up ag...   \n",
       "7  The Texas Rangers chase down a gang of outlaws...   \n",
       "8  Following the death of District Attorney Harve...   \n",
       "9  As Harry begins his sixth year at Hogwarts, he...   \n",
       "\n",
       "                                          tagline    uid  director_id  \n",
       "0                     Live Forever Or Die Trying.   1865         4775  \n",
       "1  At the end of the world, the adventure begins.    285         4763  \n",
       "2                             A New Age Has Come.  99861         4769  \n",
       "3                                            None   1452         4772  \n",
       "4            Lost in our world, found in another.  49529         4766  \n",
       "5        They're taking adventure to new lengths.  38757         4768  \n",
       "6                              The battle within.    559         4767  \n",
       "7                         Never Take Off the Mask  57201         4763  \n",
       "8                                 The Legend Ends  49026         4765  \n",
       "9                           Dark Secrets Revealed    767         4770  "
      ]
     },
     "execution_count": 40,
     "metadata": {},
     "output_type": "execute_result"
    }
   ],
   "source": [
    "highh_budget_m=pd.DataFrame(cur.execute(\"SELECT * FROM movies ORDER BY budget DESC LIMIT 10 \"),columns=[\"id\",\"original_title\",\"budget\",\"popularity\",\"released_date\",\"revenue\",\"title\",'vote_average', 'vote_count',\"overview\",\"tagline\",\"uid\",\"director_id\"])\n",
    "highh_budget_m"
   ]
  },
  {
   "cell_type": "markdown",
   "id": "c8a0565e-301f-4c68-b0e5-bf7a05045dff",
   "metadata": {},
   "source": [
    "## revenue Analysis"
   ]
  },
  {
   "cell_type": "markdown",
   "id": "6098e7e5-3c95-4fda-a38b-6e609d71217a",
   "metadata": {},
   "source": [
    "## Top 10 highes revenue making movies"
   ]
  },
  {
   "cell_type": "code",
   "execution_count": 43,
   "id": "ce637919-71c9-494a-9076-b3ae196d8f52",
   "metadata": {},
   "outputs": [
    {
     "data": {
      "text/plain": [
       "Index(['id', 'original_title', 'budget', 'popularity', 'released_date',\n",
       "       'revenue', 'title', 'vote_average', 'vote_count', 'overview', 'tagline',\n",
       "       'uid', 'director_id'],\n",
       "      dtype='object')"
      ]
     },
     "execution_count": 43,
     "metadata": {},
     "output_type": "execute_result"
    }
   ],
   "source": [
    "df.columns"
   ]
  },
  {
   "cell_type": "code",
   "execution_count": 44,
   "id": "e90aa686-cfbf-47e9-b710-93555dddc0c1",
   "metadata": {},
   "outputs": [
    {
     "data": {
      "text/html": [
       "<div>\n",
       "<style scoped>\n",
       "    .dataframe tbody tr th:only-of-type {\n",
       "        vertical-align: middle;\n",
       "    }\n",
       "\n",
       "    .dataframe tbody tr th {\n",
       "        vertical-align: top;\n",
       "    }\n",
       "\n",
       "    .dataframe thead th {\n",
       "        text-align: right;\n",
       "    }\n",
       "</style>\n",
       "<table border=\"1\" class=\"dataframe\">\n",
       "  <thead>\n",
       "    <tr style=\"text-align: right;\">\n",
       "      <th></th>\n",
       "      <th>id</th>\n",
       "      <th>original_title</th>\n",
       "      <th>budget</th>\n",
       "      <th>popularity</th>\n",
       "      <th>released_date</th>\n",
       "      <th>revenue</th>\n",
       "      <th>title</th>\n",
       "      <th>vote_average</th>\n",
       "      <th>vote_count</th>\n",
       "      <th>overview</th>\n",
       "      <th>tagline</th>\n",
       "      <th>uid</th>\n",
       "      <th>director_id</th>\n",
       "    </tr>\n",
       "  </thead>\n",
       "  <tbody>\n",
       "    <tr>\n",
       "      <th>0</th>\n",
       "      <td>43597</td>\n",
       "      <td>Avatar</td>\n",
       "      <td>237000000</td>\n",
       "      <td>150</td>\n",
       "      <td>2009-12-10</td>\n",
       "      <td>2787965087</td>\n",
       "      <td>Avatar</td>\n",
       "      <td>7.2</td>\n",
       "      <td>11800</td>\n",
       "      <td>In the 22nd century, a paraplegic Marine is di...</td>\n",
       "      <td>Enter the World of Pandora.</td>\n",
       "      <td>19995</td>\n",
       "      <td>4762</td>\n",
       "    </tr>\n",
       "    <tr>\n",
       "      <th>1</th>\n",
       "      <td>43622</td>\n",
       "      <td>Titanic</td>\n",
       "      <td>200000000</td>\n",
       "      <td>100</td>\n",
       "      <td>1997-11-18</td>\n",
       "      <td>1845034188</td>\n",
       "      <td>Titanic</td>\n",
       "      <td>7.5</td>\n",
       "      <td>7562</td>\n",
       "      <td>84 years later, a 101-year-old woman named Ros...</td>\n",
       "      <td>Nothing on Earth could come between them.</td>\n",
       "      <td>597</td>\n",
       "      <td>4762</td>\n",
       "    </tr>\n",
       "    <tr>\n",
       "      <th>2</th>\n",
       "      <td>43613</td>\n",
       "      <td>The Avengers</td>\n",
       "      <td>220000000</td>\n",
       "      <td>144</td>\n",
       "      <td>2012-04-25</td>\n",
       "      <td>1519557910</td>\n",
       "      <td>The Avengers</td>\n",
       "      <td>7.4</td>\n",
       "      <td>11776</td>\n",
       "      <td>When an unexpected enemy emerges and threatens...</td>\n",
       "      <td>Some assembly required.</td>\n",
       "      <td>24428</td>\n",
       "      <td>4769</td>\n",
       "    </tr>\n",
       "    <tr>\n",
       "      <th>3</th>\n",
       "      <td>43625</td>\n",
       "      <td>Jurassic World</td>\n",
       "      <td>150000000</td>\n",
       "      <td>418</td>\n",
       "      <td>2015-06-09</td>\n",
       "      <td>1513528810</td>\n",
       "      <td>Jurassic World</td>\n",
       "      <td>6.5</td>\n",
       "      <td>8662</td>\n",
       "      <td>Twenty-two years after the events of Jurassic ...</td>\n",
       "      <td>The park is open.</td>\n",
       "      <td>135397</td>\n",
       "      <td>4783</td>\n",
       "    </tr>\n",
       "    <tr>\n",
       "      <th>4</th>\n",
       "      <td>43641</td>\n",
       "      <td>Furious 7</td>\n",
       "      <td>190000000</td>\n",
       "      <td>102</td>\n",
       "      <td>2015-04-01</td>\n",
       "      <td>1506249360</td>\n",
       "      <td>Furious 7</td>\n",
       "      <td>7.3</td>\n",
       "      <td>4176</td>\n",
       "      <td>Deckard Shaw seeks revenge against Dominic Tor...</td>\n",
       "      <td>Vengeance Hits Home</td>\n",
       "      <td>168259</td>\n",
       "      <td>4794</td>\n",
       "    </tr>\n",
       "    <tr>\n",
       "      <th>5</th>\n",
       "      <td>43604</td>\n",
       "      <td>Avengers: Age of Ultron</td>\n",
       "      <td>280000000</td>\n",
       "      <td>134</td>\n",
       "      <td>2015-04-22</td>\n",
       "      <td>1405403694</td>\n",
       "      <td>Avengers: Age of Ultron</td>\n",
       "      <td>7.3</td>\n",
       "      <td>6767</td>\n",
       "      <td>When Tony Stark tries to jumpstart a dormant p...</td>\n",
       "      <td>A New Age Has Come.</td>\n",
       "      <td>99861</td>\n",
       "      <td>4769</td>\n",
       "    </tr>\n",
       "    <tr>\n",
       "      <th>6</th>\n",
       "      <td>43721</td>\n",
       "      <td>Frozen</td>\n",
       "      <td>150000000</td>\n",
       "      <td>165</td>\n",
       "      <td>2013-11-27</td>\n",
       "      <td>1274219009</td>\n",
       "      <td>Frozen</td>\n",
       "      <td>7.3</td>\n",
       "      <td>5295</td>\n",
       "      <td>Young princess Anna of Arendelle dreams about ...</td>\n",
       "      <td>Only the act of true love will thaw a frozen h...</td>\n",
       "      <td>109445</td>\n",
       "      <td>4844</td>\n",
       "    </tr>\n",
       "    <tr>\n",
       "      <th>7</th>\n",
       "      <td>43628</td>\n",
       "      <td>Iron Man 3</td>\n",
       "      <td>200000000</td>\n",
       "      <td>77</td>\n",
       "      <td>2013-04-18</td>\n",
       "      <td>1215439994</td>\n",
       "      <td>Iron Man 3</td>\n",
       "      <td>6.8</td>\n",
       "      <td>8806</td>\n",
       "      <td>When Tony Stark's world is torn apart by a for...</td>\n",
       "      <td>Unleash the power behind the armor.</td>\n",
       "      <td>68721</td>\n",
       "      <td>4784</td>\n",
       "    </tr>\n",
       "    <tr>\n",
       "      <th>8</th>\n",
       "      <td>44143</td>\n",
       "      <td>Minions</td>\n",
       "      <td>74000000</td>\n",
       "      <td>875</td>\n",
       "      <td>2015-06-17</td>\n",
       "      <td>1156730962</td>\n",
       "      <td>Minions</td>\n",
       "      <td>6.4</td>\n",
       "      <td>4571</td>\n",
       "      <td>Minions Stuart, Kevin and Bob are recruited by...</td>\n",
       "      <td>Before Gru, they had a history of bad bosses</td>\n",
       "      <td>211672</td>\n",
       "      <td>5045</td>\n",
       "    </tr>\n",
       "    <tr>\n",
       "      <th>9</th>\n",
       "      <td>43623</td>\n",
       "      <td>Captain America: Civil War</td>\n",
       "      <td>250000000</td>\n",
       "      <td>198</td>\n",
       "      <td>2016-04-27</td>\n",
       "      <td>1153304495</td>\n",
       "      <td>Captain America: Civil War</td>\n",
       "      <td>7.1</td>\n",
       "      <td>7241</td>\n",
       "      <td>Following the events of Age of Ultron, the col...</td>\n",
       "      <td>Divided We Fall</td>\n",
       "      <td>271110</td>\n",
       "      <td>4781</td>\n",
       "    </tr>\n",
       "  </tbody>\n",
       "</table>\n",
       "</div>"
      ],
      "text/plain": [
       "      id              original_title     budget  popularity released_date  \\\n",
       "0  43597                      Avatar  237000000         150    2009-12-10   \n",
       "1  43622                     Titanic  200000000         100    1997-11-18   \n",
       "2  43613                The Avengers  220000000         144    2012-04-25   \n",
       "3  43625              Jurassic World  150000000         418    2015-06-09   \n",
       "4  43641                   Furious 7  190000000         102    2015-04-01   \n",
       "5  43604     Avengers: Age of Ultron  280000000         134    2015-04-22   \n",
       "6  43721                      Frozen  150000000         165    2013-11-27   \n",
       "7  43628                  Iron Man 3  200000000          77    2013-04-18   \n",
       "8  44143                     Minions   74000000         875    2015-06-17   \n",
       "9  43623  Captain America: Civil War  250000000         198    2016-04-27   \n",
       "\n",
       "      revenue                       title  vote_average  vote_count  \\\n",
       "0  2787965087                      Avatar           7.2       11800   \n",
       "1  1845034188                     Titanic           7.5        7562   \n",
       "2  1519557910                The Avengers           7.4       11776   \n",
       "3  1513528810              Jurassic World           6.5        8662   \n",
       "4  1506249360                   Furious 7           7.3        4176   \n",
       "5  1405403694     Avengers: Age of Ultron           7.3        6767   \n",
       "6  1274219009                      Frozen           7.3        5295   \n",
       "7  1215439994                  Iron Man 3           6.8        8806   \n",
       "8  1156730962                     Minions           6.4        4571   \n",
       "9  1153304495  Captain America: Civil War           7.1        7241   \n",
       "\n",
       "                                            overview  \\\n",
       "0  In the 22nd century, a paraplegic Marine is di...   \n",
       "1  84 years later, a 101-year-old woman named Ros...   \n",
       "2  When an unexpected enemy emerges and threatens...   \n",
       "3  Twenty-two years after the events of Jurassic ...   \n",
       "4  Deckard Shaw seeks revenge against Dominic Tor...   \n",
       "5  When Tony Stark tries to jumpstart a dormant p...   \n",
       "6  Young princess Anna of Arendelle dreams about ...   \n",
       "7  When Tony Stark's world is torn apart by a for...   \n",
       "8  Minions Stuart, Kevin and Bob are recruited by...   \n",
       "9  Following the events of Age of Ultron, the col...   \n",
       "\n",
       "                                             tagline     uid  director_id  \n",
       "0                        Enter the World of Pandora.   19995         4762  \n",
       "1          Nothing on Earth could come between them.     597         4762  \n",
       "2                            Some assembly required.   24428         4769  \n",
       "3                                  The park is open.  135397         4783  \n",
       "4                                Vengeance Hits Home  168259         4794  \n",
       "5                                A New Age Has Come.   99861         4769  \n",
       "6  Only the act of true love will thaw a frozen h...  109445         4844  \n",
       "7                Unleash the power behind the armor.   68721         4784  \n",
       "8       Before Gru, they had a history of bad bosses  211672         5045  \n",
       "9                                    Divided We Fall  271110         4781  "
      ]
     },
     "execution_count": 44,
     "metadata": {},
     "output_type": "execute_result"
    }
   ],
   "source": [
    "highh_revenue_m=pd.DataFrame(cur.execute(\"SELECT * FROM movies ORDER BY revenue DESC LIMIT 10 \"),columns=[\"id\",\"original_title\",\"budget\",\"popularity\",\"released_date\",\"revenue\",\"title\",'vote_average', 'vote_count',\"overview\",\"tagline\",\"uid\",\"director_id\"])\n",
    "highh_revenue_m"
   ]
  },
  {
   "cell_type": "markdown",
   "id": "55f2bc0a-b5d2-4fbc-8232-425334a097ce",
   "metadata": {},
   "source": [
    "## Voting Analysis"
   ]
  },
  {
   "cell_type": "markdown",
   "id": "f96c6419-2c19-4895-b01c-d19ed49e7e4d",
   "metadata": {},
   "source": [
    "## Find the most popular movies with highest vote_average"
   ]
  },
  {
   "cell_type": "code",
   "execution_count": 47,
   "id": "10d9e397-d41b-41a5-bd38-290699b4628c",
   "metadata": {},
   "outputs": [
    {
     "data": {
      "text/html": [
       "<div>\n",
       "<style scoped>\n",
       "    .dataframe tbody tr th:only-of-type {\n",
       "        vertical-align: middle;\n",
       "    }\n",
       "\n",
       "    .dataframe tbody tr th {\n",
       "        vertical-align: top;\n",
       "    }\n",
       "\n",
       "    .dataframe thead th {\n",
       "        text-align: right;\n",
       "    }\n",
       "</style>\n",
       "<table border=\"1\" class=\"dataframe\">\n",
       "  <thead>\n",
       "    <tr style=\"text-align: right;\">\n",
       "      <th></th>\n",
       "      <th>id</th>\n",
       "      <th>original_title</th>\n",
       "      <th>budget</th>\n",
       "      <th>popularity</th>\n",
       "      <th>released_date</th>\n",
       "      <th>revenue</th>\n",
       "      <th>title</th>\n",
       "      <th>vote_average</th>\n",
       "      <th>vote_count</th>\n",
       "      <th>overview</th>\n",
       "      <th>tagline</th>\n",
       "      <th>uid</th>\n",
       "      <th>director_id</th>\n",
       "    </tr>\n",
       "  </thead>\n",
       "  <tbody>\n",
       "    <tr>\n",
       "      <th>0</th>\n",
       "      <td>47116</td>\n",
       "      <td>Stiff Upper Lips</td>\n",
       "      <td>0</td>\n",
       "      <td>0</td>\n",
       "      <td>1998-06-12</td>\n",
       "      <td>0</td>\n",
       "      <td>Stiff Upper Lips</td>\n",
       "      <td>10.0</td>\n",
       "      <td>1</td>\n",
       "      <td>Stiff Upper Lips is a broad parody of British ...</td>\n",
       "      <td>None</td>\n",
       "      <td>89861</td>\n",
       "      <td>6332</td>\n",
       "    </tr>\n",
       "    <tr>\n",
       "      <th>1</th>\n",
       "      <td>47642</td>\n",
       "      <td>Dancer, Texas Pop. 81</td>\n",
       "      <td>0</td>\n",
       "      <td>0</td>\n",
       "      <td>1998-05-01</td>\n",
       "      <td>565592</td>\n",
       "      <td>Dancer, Texas Pop. 81</td>\n",
       "      <td>10.0</td>\n",
       "      <td>1</td>\n",
       "      <td>Four guys, best friends, have grown up togethe...</td>\n",
       "      <td>in the middle of nowhere they had everything</td>\n",
       "      <td>78373</td>\n",
       "      <td>5463</td>\n",
       "    </tr>\n",
       "    <tr>\n",
       "      <th>2</th>\n",
       "      <td>47589</td>\n",
       "      <td>Sardaarji</td>\n",
       "      <td>0</td>\n",
       "      <td>0</td>\n",
       "      <td>2015-06-26</td>\n",
       "      <td>0</td>\n",
       "      <td>Sardaarji</td>\n",
       "      <td>9.5</td>\n",
       "      <td>2</td>\n",
       "      <td>A ghost hunter uses bottles to capture trouble...</td>\n",
       "      <td>None</td>\n",
       "      <td>346081</td>\n",
       "      <td>6588</td>\n",
       "    </tr>\n",
       "    <tr>\n",
       "      <th>3</th>\n",
       "      <td>45983</td>\n",
       "      <td>One Man's Hero</td>\n",
       "      <td>0</td>\n",
       "      <td>0</td>\n",
       "      <td>1999-08-02</td>\n",
       "      <td>0</td>\n",
       "      <td>One Man's Hero</td>\n",
       "      <td>9.3</td>\n",
       "      <td>2</td>\n",
       "      <td>One Man's Hero tells the little-known story of...</td>\n",
       "      <td>One man's hero is another man's traitor.</td>\n",
       "      <td>69848</td>\n",
       "      <td>5770</td>\n",
       "    </tr>\n",
       "    <tr>\n",
       "      <th>4</th>\n",
       "      <td>45478</td>\n",
       "      <td>The Shawshank Redemption</td>\n",
       "      <td>25000000</td>\n",
       "      <td>136</td>\n",
       "      <td>1994-09-23</td>\n",
       "      <td>28341469</td>\n",
       "      <td>The Shawshank Redemption</td>\n",
       "      <td>8.5</td>\n",
       "      <td>8205</td>\n",
       "      <td>Framed in the 1940s for the double murder of h...</td>\n",
       "      <td>Fear can hold you prisoner. Hope can set you f...</td>\n",
       "      <td>278</td>\n",
       "      <td>5051</td>\n",
       "    </tr>\n",
       "    <tr>\n",
       "      <th>5</th>\n",
       "      <td>46567</td>\n",
       "      <td>There Goes My Baby</td>\n",
       "      <td>10500000</td>\n",
       "      <td>0</td>\n",
       "      <td>1994-09-02</td>\n",
       "      <td>123509</td>\n",
       "      <td>There Goes My Baby</td>\n",
       "      <td>8.5</td>\n",
       "      <td>2</td>\n",
       "      <td>A group of high school seniors meets in the su...</td>\n",
       "      <td>None</td>\n",
       "      <td>88641</td>\n",
       "      <td>6051</td>\n",
       "    </tr>\n",
       "    <tr>\n",
       "      <th>6</th>\n",
       "      <td>46393</td>\n",
       "      <td>The Prisoner of Zenda</td>\n",
       "      <td>0</td>\n",
       "      <td>4</td>\n",
       "      <td>1937-09-03</td>\n",
       "      <td>0</td>\n",
       "      <td>The Prisoner of Zenda</td>\n",
       "      <td>8.4</td>\n",
       "      <td>11</td>\n",
       "      <td>An Englishman on a Ruritarian holiday must imp...</td>\n",
       "      <td>The most thrilling swordfight ever filmed...</td>\n",
       "      <td>43867</td>\n",
       "      <td>5972</td>\n",
       "    </tr>\n",
       "    <tr>\n",
       "      <th>7</th>\n",
       "      <td>46934</td>\n",
       "      <td>The Godfather</td>\n",
       "      <td>6000000</td>\n",
       "      <td>143</td>\n",
       "      <td>1972-03-14</td>\n",
       "      <td>245066411</td>\n",
       "      <td>The Godfather</td>\n",
       "      <td>8.4</td>\n",
       "      <td>5893</td>\n",
       "      <td>Spanning the years 1945 to 1955, a chronicle o...</td>\n",
       "      <td>An offer you can't refuse.</td>\n",
       "      <td>238</td>\n",
       "      <td>5179</td>\n",
       "    </tr>\n",
       "    <tr>\n",
       "      <th>8</th>\n",
       "      <td>44259</td>\n",
       "      <td>Fight Club</td>\n",
       "      <td>63000000</td>\n",
       "      <td>146</td>\n",
       "      <td>1999-10-15</td>\n",
       "      <td>100853753</td>\n",
       "      <td>Fight Club</td>\n",
       "      <td>8.3</td>\n",
       "      <td>9413</td>\n",
       "      <td>A ticking-time-bomb insomniac and a slippery s...</td>\n",
       "      <td>Mischief. Mayhem. Soap.</td>\n",
       "      <td>550</td>\n",
       "      <td>4829</td>\n",
       "    </tr>\n",
       "    <tr>\n",
       "      <th>9</th>\n",
       "      <td>45415</td>\n",
       "      <td>Schindler's List</td>\n",
       "      <td>22000000</td>\n",
       "      <td>104</td>\n",
       "      <td>1993-11-29</td>\n",
       "      <td>321365567</td>\n",
       "      <td>Schindler's List</td>\n",
       "      <td>8.3</td>\n",
       "      <td>4329</td>\n",
       "      <td>The true story of how businessman Oskar Schind...</td>\n",
       "      <td>Whoever saves one life, saves the world entire.</td>\n",
       "      <td>424</td>\n",
       "      <td>4799</td>\n",
       "    </tr>\n",
       "  </tbody>\n",
       "</table>\n",
       "</div>"
      ],
      "text/plain": [
       "      id            original_title    budget  popularity released_date  \\\n",
       "0  47116          Stiff Upper Lips         0           0    1998-06-12   \n",
       "1  47642     Dancer, Texas Pop. 81         0           0    1998-05-01   \n",
       "2  47589                 Sardaarji         0           0    2015-06-26   \n",
       "3  45983            One Man's Hero         0           0    1999-08-02   \n",
       "4  45478  The Shawshank Redemption  25000000         136    1994-09-23   \n",
       "5  46567        There Goes My Baby  10500000           0    1994-09-02   \n",
       "6  46393     The Prisoner of Zenda         0           4    1937-09-03   \n",
       "7  46934             The Godfather   6000000         143    1972-03-14   \n",
       "8  44259                Fight Club  63000000         146    1999-10-15   \n",
       "9  45415          Schindler's List  22000000         104    1993-11-29   \n",
       "\n",
       "     revenue                     title  vote_average  vote_count  \\\n",
       "0          0          Stiff Upper Lips          10.0           1   \n",
       "1     565592     Dancer, Texas Pop. 81          10.0           1   \n",
       "2          0                 Sardaarji           9.5           2   \n",
       "3          0            One Man's Hero           9.3           2   \n",
       "4   28341469  The Shawshank Redemption           8.5        8205   \n",
       "5     123509        There Goes My Baby           8.5           2   \n",
       "6          0     The Prisoner of Zenda           8.4          11   \n",
       "7  245066411             The Godfather           8.4        5893   \n",
       "8  100853753                Fight Club           8.3        9413   \n",
       "9  321365567          Schindler's List           8.3        4329   \n",
       "\n",
       "                                            overview  \\\n",
       "0  Stiff Upper Lips is a broad parody of British ...   \n",
       "1  Four guys, best friends, have grown up togethe...   \n",
       "2  A ghost hunter uses bottles to capture trouble...   \n",
       "3  One Man's Hero tells the little-known story of...   \n",
       "4  Framed in the 1940s for the double murder of h...   \n",
       "5  A group of high school seniors meets in the su...   \n",
       "6  An Englishman on a Ruritarian holiday must imp...   \n",
       "7  Spanning the years 1945 to 1955, a chronicle o...   \n",
       "8  A ticking-time-bomb insomniac and a slippery s...   \n",
       "9  The true story of how businessman Oskar Schind...   \n",
       "\n",
       "                                             tagline     uid  director_id  \n",
       "0                                               None   89861         6332  \n",
       "1       in the middle of nowhere they had everything   78373         5463  \n",
       "2                                               None  346081         6588  \n",
       "3           One man's hero is another man's traitor.   69848         5770  \n",
       "4  Fear can hold you prisoner. Hope can set you f...     278         5051  \n",
       "5                                               None   88641         6051  \n",
       "6       The most thrilling swordfight ever filmed...   43867         5972  \n",
       "7                         An offer you can't refuse.     238         5179  \n",
       "8                            Mischief. Mayhem. Soap.     550         4829  \n",
       "9    Whoever saves one life, saves the world entire.     424         4799  "
      ]
     },
     "execution_count": 47,
     "metadata": {},
     "output_type": "execute_result"
    }
   ],
   "source": [
    "most_popular_m=pd.DataFrame(cur.execute(\"SELECT * FROM movies ORDER BY vote_average DESC LIMIT 10 \"),columns=[\"id\",\"original_title\",\"budget\",\"popularity\",\"released_date\",\"revenue\",\"title\",'vote_average', 'vote_count',\"overview\",\"tagline\",\"uid\",\"director_id\"])\n",
    "most_popular_m"
   ]
  },
  {
   "cell_type": "markdown",
   "id": "220b4ba7-00eb-4b06-b789-a9aef569cabf",
   "metadata": {},
   "source": [
    "## Director Analysis"
   ]
  },
  {
   "cell_type": "markdown",
   "id": "ec81a98d-c159-4709-9a52-e259a30a3f2a",
   "metadata": {},
   "source": [
    "## Name all directors with number of movies and revenue"
   ]
  },
  {
   "cell_type": "code",
   "execution_count": 50,
   "id": "c55a6ec0-eac8-4e34-aeba-d3eb34c764eb",
   "metadata": {},
   "outputs": [
    {
     "data": {
      "text/plain": [
       "Index(['name', 'id', 'gender', 'uid', 'department'], dtype='object')"
      ]
     },
     "execution_count": 50,
     "metadata": {},
     "output_type": "execute_result"
    }
   ],
   "source": [
    "df_2.columns"
   ]
  },
  {
   "cell_type": "code",
   "execution_count": 51,
   "id": "b1006b9c-89dc-4124-9b45-9fa933e92638",
   "metadata": {},
   "outputs": [
    {
     "data": {
      "text/html": [
       "<div>\n",
       "<style scoped>\n",
       "    .dataframe tbody tr th:only-of-type {\n",
       "        vertical-align: middle;\n",
       "    }\n",
       "\n",
       "    .dataframe tbody tr th {\n",
       "        vertical-align: top;\n",
       "    }\n",
       "\n",
       "    .dataframe thead th {\n",
       "        text-align: right;\n",
       "    }\n",
       "</style>\n",
       "<table border=\"1\" class=\"dataframe\">\n",
       "  <thead>\n",
       "    <tr style=\"text-align: right;\">\n",
       "      <th></th>\n",
       "      <th>0</th>\n",
       "      <th>1</th>\n",
       "      <th>2</th>\n",
       "    </tr>\n",
       "  </thead>\n",
       "  <tbody>\n",
       "    <tr>\n",
       "      <th>0</th>\n",
       "      <td>786636033</td>\n",
       "      <td>Steven Spielberg</td>\n",
       "      <td>27</td>\n",
       "    </tr>\n",
       "    <tr>\n",
       "      <th>1</th>\n",
       "      <td>956019788</td>\n",
       "      <td>Peter Jackson</td>\n",
       "      <td>9</td>\n",
       "    </tr>\n",
       "    <tr>\n",
       "      <th>2</th>\n",
       "      <td>2787965087</td>\n",
       "      <td>James Cameron</td>\n",
       "      <td>7</td>\n",
       "    </tr>\n",
       "    <tr>\n",
       "      <th>3</th>\n",
       "      <td>836297228</td>\n",
       "      <td>Michael Bay</td>\n",
       "      <td>12</td>\n",
       "    </tr>\n",
       "    <tr>\n",
       "      <th>4</th>\n",
       "      <td>1084939099</td>\n",
       "      <td>Christopher Nolan</td>\n",
       "      <td>8</td>\n",
       "    </tr>\n",
       "    <tr>\n",
       "      <th>5</th>\n",
       "      <td>976475550</td>\n",
       "      <td>Chris Columbus</td>\n",
       "      <td>11</td>\n",
       "    </tr>\n",
       "    <tr>\n",
       "      <th>6</th>\n",
       "      <td>325233863</td>\n",
       "      <td>Robert Zemeckis</td>\n",
       "      <td>13</td>\n",
       "    </tr>\n",
       "    <tr>\n",
       "      <th>7</th>\n",
       "      <td>850000000</td>\n",
       "      <td>George Lucas</td>\n",
       "      <td>5</td>\n",
       "    </tr>\n",
       "    <tr>\n",
       "      <th>8</th>\n",
       "      <td>1025491110</td>\n",
       "      <td>Tim Burton</td>\n",
       "      <td>14</td>\n",
       "    </tr>\n",
       "    <tr>\n",
       "      <th>9</th>\n",
       "      <td>310669540</td>\n",
       "      <td>Ridley Scott</td>\n",
       "      <td>16</td>\n",
       "    </tr>\n",
       "  </tbody>\n",
       "</table>\n",
       "</div>"
      ],
      "text/plain": [
       "            0                  1   2\n",
       "0   786636033   Steven Spielberg  27\n",
       "1   956019788      Peter Jackson   9\n",
       "2  2787965087      James Cameron   7\n",
       "3   836297228        Michael Bay  12\n",
       "4  1084939099  Christopher Nolan   8\n",
       "5   976475550     Chris Columbus  11\n",
       "6   325233863    Robert Zemeckis  13\n",
       "7   850000000       George Lucas   5\n",
       "8  1025491110         Tim Burton  14\n",
       "9   310669540       Ridley Scott  16"
      ]
     },
     "execution_count": 51,
     "metadata": {},
     "output_type": "execute_result"
    }
   ],
   "source": [
    "top_directors=pd.DataFrame(cur.execute(\"SELECT revenue,name,count(*) FROM directors JOIN movies on directors.id=movies.director_id GROUP BY directors.name ORDER BY sum(revenue) DESC LIMIT 10\"))\n",
    "top_directors"
   ]
  },
  {
   "cell_type": "code",
   "execution_count": 52,
   "id": "9f3ad52e-7291-4718-9433-56c97f7bbdc9",
   "metadata": {},
   "outputs": [
    {
     "data": {
      "text/plain": [
       "'Steven Spielberg'"
      ]
     },
     "execution_count": 52,
     "metadata": {},
     "output_type": "execute_result"
    }
   ],
   "source": [
    "cur.execute(\"SELECT name FROM directors JOIN movies ON  directors.id = movies.director_id  GROUP BY name  ORDER BY sum(budget) DESC LIMIT 1\")\n",
    "movie_name = cur.fetchall()\n",
    "movie_name[0][0]"
   ]
  }
 ],
 "metadata": {
  "kernelspec": {
   "display_name": "Python 3 (ipykernel)",
   "language": "python",
   "name": "python3"
  },
  "language_info": {
   "codemirror_mode": {
    "name": "ipython",
    "version": 3
   },
   "file_extension": ".py",
   "mimetype": "text/x-python",
   "name": "python",
   "nbconvert_exporter": "python",
   "pygments_lexer": "ipython3",
   "version": "3.11.7"
  }
 },
 "nbformat": 4,
 "nbformat_minor": 5
}
